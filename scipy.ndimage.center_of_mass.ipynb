{
 "cells": [
  {
   "cell_type": "code",
   "execution_count": 1,
   "id": "faefe58d",
   "metadata": {},
   "outputs": [],
   "source": [
    "import numpy as np"
   ]
  },
  {
   "cell_type": "code",
   "execution_count": 2,
   "id": "bc5abfde",
   "metadata": {},
   "outputs": [],
   "source": [
    "from scipy import ndimage"
   ]
  },
  {
   "cell_type": "code",
   "execution_count": 3,
   "id": "d528762b",
   "metadata": {},
   "outputs": [],
   "source": [
    "a = np.array(([0,0,0,0],\n",
    "              [0,1,1,0],\n",
    "              [0,1,1,0],\n",
    "              [0,1,1,0]))"
   ]
  },
  {
   "cell_type": "code",
   "execution_count": 4,
   "id": "d1cb5157",
   "metadata": {},
   "outputs": [
    {
     "data": {
      "text/plain": [
       "(2.0, 1.5)"
      ]
     },
     "execution_count": 4,
     "metadata": {},
     "output_type": "execute_result"
    }
   ],
   "source": [
    "ndimage.center_of_mass(a)"
   ]
  },
  {
   "cell_type": "code",
   "execution_count": 5,
   "id": "3845dcf7",
   "metadata": {},
   "outputs": [],
   "source": [
    "c = np.array(([-1,0,0,0],\n",
    "              [0,-1,-1,0],\n",
    "              [0,1,-1,0],\n",
    "              [0,1,1,0]))"
   ]
  },
  {
   "cell_type": "code",
   "execution_count": 6,
   "id": "79b507ee",
   "metadata": {},
   "outputs": [
    {
     "data": {
      "text/plain": [
       "(-4.0, 1.0)"
      ]
     },
     "execution_count": 6,
     "metadata": {},
     "output_type": "execute_result"
    }
   ],
   "source": [
    "ndimage.center_of_mass(c)"
   ]
  },
  {
   "cell_type": "code",
   "execution_count": 7,
   "id": "2daf38b2",
   "metadata": {},
   "outputs": [],
   "source": [
    "d = np.array([-1, 1])"
   ]
  },
  {
   "cell_type": "code",
   "execution_count": 8,
   "id": "0e308925",
   "metadata": {},
   "outputs": [
    {
     "data": {
      "text/plain": [
       "array([-1,  1])"
      ]
     },
     "execution_count": 8,
     "metadata": {},
     "output_type": "execute_result"
    }
   ],
   "source": [
    "d"
   ]
  },
  {
   "cell_type": "code",
   "execution_count": 9,
   "id": "1b6f86c4",
   "metadata": {},
   "outputs": [
    {
     "name": "stderr",
     "output_type": "stream",
     "text": [
      "C:\\Users\\User\\AppData\\Local\\Programs\\Python\\Python310\\lib\\site-packages\\scipy\\ndimage\\_measurements.py:1407: RuntimeWarning: divide by zero encountered in double_scalars\n",
      "  results = [sum(input * grids[dir].astype(float), labels, index) / normalizer\n"
     ]
    },
    {
     "data": {
      "text/plain": [
       "(inf,)"
      ]
     },
     "execution_count": 9,
     "metadata": {},
     "output_type": "execute_result"
    }
   ],
   "source": [
    "ndimage.center_of_mass(d)"
   ]
  },
  {
   "cell_type": "code",
   "execution_count": null,
   "id": "1768d0fe",
   "metadata": {},
   "outputs": [],
   "source": []
  }
 ],
 "metadata": {
  "kernelspec": {
   "display_name": "Python 3 (ipykernel)",
   "language": "python",
   "name": "python3"
  },
  "language_info": {
   "codemirror_mode": {
    "name": "ipython",
    "version": 3
   },
   "file_extension": ".py",
   "mimetype": "text/x-python",
   "name": "python",
   "nbconvert_exporter": "python",
   "pygments_lexer": "ipython3",
   "version": "3.10.5"
  }
 },
 "nbformat": 4,
 "nbformat_minor": 5
}
